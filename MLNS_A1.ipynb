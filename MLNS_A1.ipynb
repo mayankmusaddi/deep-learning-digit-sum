{
  "nbformat": 4,
  "nbformat_minor": 0,
  "metadata": {
    "colab": {
      "name": "MLNS_A1.ipynb",
      "provenance": [],
      "collapsed_sections": []
    },
    "kernelspec": {
      "name": "python3",
      "display_name": "Python 3"
    },
    "accelerator": "GPU"
  },
  "cells": [
    {
      "cell_type": "code",
      "metadata": {
        "colab": {
          "base_uri": "https://localhost:8080/"
        },
        "id": "63rKOpA4zMVy",
        "outputId": "b40ecfce-40ae-4e6c-83b3-90259a414914"
      },
      "source": [
        "!pip3 install torch torchvision"
      ],
      "execution_count": 1,
      "outputs": [
        {
          "output_type": "stream",
          "text": [
            "Requirement already satisfied: torch in /usr/local/lib/python3.6/dist-packages (1.7.0+cu101)\n",
            "Requirement already satisfied: torchvision in /usr/local/lib/python3.6/dist-packages (0.8.1+cu101)\n",
            "Requirement already satisfied: dataclasses in /usr/local/lib/python3.6/dist-packages (from torch) (0.8)\n",
            "Requirement already satisfied: numpy in /usr/local/lib/python3.6/dist-packages (from torch) (1.19.5)\n",
            "Requirement already satisfied: future in /usr/local/lib/python3.6/dist-packages (from torch) (0.16.0)\n",
            "Requirement already satisfied: typing-extensions in /usr/local/lib/python3.6/dist-packages (from torch) (3.7.4.3)\n",
            "Requirement already satisfied: pillow>=4.1.1 in /usr/local/lib/python3.6/dist-packages (from torchvision) (7.0.0)\n"
          ],
          "name": "stdout"
        }
      ]
    },
    {
      "cell_type": "code",
      "metadata": {
        "id": "HkXW_iRXxt6L"
      },
      "source": [
        "import torch\n",
        "import torch.nn as nn\n",
        "import torch.nn.functional as F\n",
        "import torchvision\n",
        "import torchvision.transforms as transforms\n",
        "\n",
        "import numpy as np\n",
        "import matplotlib.pyplot as plt\n",
        "\n",
        "from tqdm import tqdm"
      ],
      "execution_count": 66,
      "outputs": []
    },
    {
      "cell_type": "code",
      "metadata": {
        "colab": {
          "base_uri": "https://localhost:8080/",
          "height": 166
        },
        "id": "0-z-p9p34P3C",
        "outputId": "cdcfb911-ec1a-4d30-cf16-25c618f3c8df"
      },
      "source": [
        "data_files = ['data0.npy', 'data1.npy', 'data2.npy']\n",
        "label_files = ['lab0.npy', 'lab1.npy', 'lab2.npy']\n",
        "\n",
        "data = np.load('data0.npy')\n",
        "data = np.append(data, np.load('data1.npy'), axis=0)\n",
        "data = np.append(data, np.load('data2.npy'), axis=0)\n",
        "data = np.array([[i] for i in data])\n",
        "data = torch.from_numpy(data.astype(np.float32))\n",
        "\n",
        "labels = np.load('lab0.npy')\n",
        "labels = np.append(labels, np.load('lab1.npy'), axis=0)\n",
        "labels = np.append(labels, np.load('lab2.npy'), axis=0)\n",
        "labels = torch.from_numpy(labels.astype(np.long))\n",
        "    \n",
        "train_data = data[:27000]\n",
        "train_labels = labels[:27000]\n",
        "\n",
        "test_data = data[27000:]\n",
        "test_labels = labels[27000:]\n",
        "\n",
        "print(train_data.shape, train_labels.shape)\n",
        "i = 1\n",
        "plt.imshow(test_data[i][0])"
      ],
      "execution_count": 67,
      "outputs": [
        {
          "output_type": "stream",
          "text": [
            "torch.Size([27000, 1, 40, 168]) torch.Size([27000])\n"
          ],
          "name": "stdout"
        },
        {
          "output_type": "execute_result",
          "data": {
            "text/plain": [
              "<matplotlib.image.AxesImage at 0x7f71155cae10>"
            ]
          },
          "metadata": {
            "tags": []
          },
          "execution_count": 67
        },
        {
          "output_type": "display_data",
          "data": {
            "image/png": "[encoded data removed]",
            "text/plain": [
              "<Figure size 432x288 with 1 Axes>"
            ]
          },
          "metadata": {
            "tags": [],
            "needs_background": "light"
          }
        }
      ]
    },
    {
      "cell_type": "code",
      "metadata": {
        "id": "ohpeja7r_9yJ"
      },
      "source": [
        "BATCH_SIZE = 32\n",
        "\n",
        "trainset = torch.utils.data.TensorDataset(train_data,train_labels)\n",
        "testset = torch.utils.data.TensorDataset(test_data,test_labels)\n",
        "\n",
        "trainset, valset = torch.utils.data.random_split(trainset, [int(0.8 * len(trainset)), int(0.2 * len(trainset))])\n",
        "\n",
        "trainloader = torch.utils.data.DataLoader(trainset, batch_size=BATCH_SIZE, shuffle=True, num_workers=2)\n",
        "valloader = torch.utils.data.DataLoader(valset, batch_size=BATCH_SIZE, shuffle=False, num_workers=2)\n",
        "testloader = torch.utils.data.DataLoader(testset, batch_size=BATCH_SIZE, shuffle=False, num_workers=2)"
      ],
      "execution_count": 68,
      "outputs": []
    },
    {
      "cell_type": "code",
      "metadata": {
        "colab": {
          "base_uri": "https://localhost:8080/",
          "height": 111
        },
        "id": "ThMY3V3vPGbH",
        "outputId": "27f19385-6169-45e7-e956-2fc830467c12"
      },
      "source": [
        "import matplotlib.pyplot as plt\n",
        "import numpy as np\n",
        "\n",
        "## functions to show an image\n",
        "def imshow(img):\n",
        "    #img = img / 2 + 0.5     # unnormalize\n",
        "    npimg = img.numpy()\n",
        "    plt.imshow(np.transpose(npimg, (1, 2, 0)))\n",
        "\n",
        "## get some random training images\n",
        "dataiter = iter(trainloader)\n",
        "images, labels = dataiter.next()\n",
        "## show images\n",
        "imshow(torchvision.utils.make_grid(images))"
      ],
      "execution_count": 69,
      "outputs": [
        {
          "output_type": "stream",
          "text": [
            "Clipping input data to the valid range for imshow with RGB data ([0..1] for floats or [0..255] for integers).\n"
          ],
          "name": "stderr"
        },
        {
          "output_type": "display_data",
          "data": {
            "image/png": "[encoded data removed]",
            "text/plain": [
              "<Figure size 432x288 with 1 Axes>"
            ]
          },
          "metadata": {
            "tags": [],
            "needs_background": "light"
          }
        }
      ]
    },
    {
      "cell_type": "code",
      "metadata": {
        "colab": {
          "base_uri": "https://localhost:8080/"
        },
        "id": "bUCYWRxrP_sI",
        "outputId": "002b07b7-3753-4363-ea1b-448af20c2d17"
      },
      "source": [
        "for images, labels in trainloader:\n",
        "    print(\"Image batch dimensions:\", images.shape)\n",
        "    print(\"Image label dimensions:\", labels.shape)\n",
        "    break"
      ],
      "execution_count": 70,
      "outputs": [
        {
          "output_type": "stream",
          "text": [
            "Image batch dimensions: torch.Size([32, 1, 40, 168])\n",
            "Image label dimensions: torch.Size([32])\n"
          ],
          "name": "stdout"
        }
      ]
    },
    {
      "cell_type": "code",
      "metadata": {
        "id": "GUhwDl_GOVir"
      },
      "source": [
        "class MyModel(nn.Module):\n",
        "    def __init__(self):\n",
        "        super(MyModel, self).__init__()\n",
        "        self.d1 = nn.Linear(40 * 168 * 1, 2000)\n",
        "        self.d2 = nn.Linear(2000, 1000)\n",
        "        self.d3 = nn.Linear(1000, 500)\n",
        "        self.d4 = nn.Linear(500, 37)\n",
        "\n",
        "    def forward(self, x):\n",
        "        x = x.flatten(start_dim = 1)\n",
        "        x = self.d1(x)\n",
        "        x = F.relu(x)\n",
        "        x = self.d2(x)\n",
        "        x = F.relu(x)\n",
        "        x = self.d3(x)\n",
        "        x = F.relu(x)\n",
        "        logits = self.d4(x)\n",
        "        out = F.softmax(logits, dim=1)\n",
        "        \n",
        "        return out"
      ],
      "execution_count": 71,
      "outputs": []
    },
    {
      "cell_type": "code",
      "metadata": {
        "colab": {
          "base_uri": "https://localhost:8080/"
        },
        "id": "rTJhm6NeQFVF",
        "outputId": "308ad1e5-7d82-40db-d9b6-dd6f312c3eb7"
      },
      "source": [
        "## test the model with 1 batch\n",
        "model = MyModel()\n",
        "for images, labels in trainloader:\n",
        "    print(\"batch size:\", images.shape)\n",
        "    out = model(images)\n",
        "    print(out.shape)\n",
        "    break"
      ],
      "execution_count": 72,
      "outputs": [
        {
          "output_type": "stream",
          "text": [
            "batch size: torch.Size([32, 1, 40, 168])\n",
            "torch.Size([32, 37])\n"
          ],
          "name": "stdout"
        }
      ]
    },
    {
      "cell_type": "code",
      "metadata": {
        "id": "WKRtvZj4QJzo"
      },
      "source": [
        "learning_rate = 0.00001\n",
        "num_epochs = 100\n",
        "\n",
        "device = torch.device(\"cuda:0\" if torch.cuda.is_available() else \"cpu\")\n",
        "model = MyModel()\n",
        "model = model.to(device)\n",
        "criterion = nn.CrossEntropyLoss()\n",
        "optimizer = torch.optim.Adam(model.parameters(), lr=learning_rate)"
      ],
      "execution_count": 74,
      "outputs": []
    },
    {
      "cell_type": "code",
      "metadata": {
        "id": "eIvaSPBPMdd3"
      },
      "source": [
        "## compute accuracy\n",
        "def get_accuracy(logit, target, batch_size):\n",
        "    ''' Obtain accuracy for training round '''\n",
        "    corrects = (torch.max(logit, 1)[1].view(target.size()).data == target.data).sum()\n",
        "    accuracy = 100.0 * corrects/batch_size\n",
        "    return accuracy.item()"
      ],
      "execution_count": 75,
      "outputs": []
    },
    {
      "cell_type": "code",
      "metadata": {
        "colab": {
          "base_uri": "https://localhost:8080/"
        },
        "id": "W4MFVVw-rRTj",
        "outputId": "9e5b96ab-817f-4a9a-85c9-b1369be7371f"
      },
      "source": [
        "train_loss = list()\n",
        "val_loss = list()\n",
        "train_acc = list()\n",
        "val_acc = list()\n",
        "\n",
        "for epoch in tqdm(range(num_epochs)):\n",
        "    total_train_loss = 0\n",
        "    total_val_loss = 0\n",
        "\n",
        "    total_train_acc = 0.0\n",
        "    total_val_acc = 0.0\n",
        "\n",
        "    model = model.train()\n",
        "\n",
        "    ## training step\n",
        "    for i, (images, labels) in enumerate(trainloader):\n",
        "        \n",
        "        images = images.to(device)\n",
        "        labels = labels.to(device)\n",
        "\n",
        "        ## forward + backprop + loss\n",
        "        pred = model(images)\n",
        "        loss = criterion(pred, labels)\n",
        "        optimizer.zero_grad()\n",
        "        loss.backward()\n",
        "\n",
        "        ## update model params\n",
        "        optimizer.step()\n",
        "\n",
        "        total_train_loss += loss.detach().item()\n",
        "        total_train_acc += get_accuracy(pred, labels, BATCH_SIZE)\n",
        "    \n",
        "    total_train_loss = total_train_loss/i\n",
        "    total_train_acc = total_train_acc/i\n",
        "    train_loss.append(total_train_loss)\n",
        "    train_acc.append(total_train_acc)\n",
        "\n",
        "    model.eval()\n",
        "\n",
        "    ## validation step\n",
        "    for i, (images, labels) in enumerate(valloader):\n",
        "        \n",
        "        images = images.to(device)\n",
        "        labels = labels.to(device)\n",
        "\n",
        "        ## forward + backprop + loss\n",
        "        pred = model(images)\n",
        "        loss = criterion(pred, labels)\n",
        "\n",
        "        total_val_loss += loss.detach().item()\n",
        "        total_val_acc += get_accuracy(pred, labels, BATCH_SIZE)\n",
        "\n",
        "    total_val_loss = total_val_loss/i\n",
        "    total_val_acc = total_val_acc/i\n",
        "    val_loss.append(total_val_loss)\n",
        "    val_acc.append(total_val_acc)\n",
        "\n",
        "    print('Epoch: %d | Train Loss: %.4f | Train Accuracy: %.2f | Val Loss: %.4f | Val Accuracy: %.2f' %(epoch, total_train_loss, total_train_acc, total_val_loss, total_val_acc )) "
      ],
      "execution_count": 76,
      "outputs": [
        {
          "output_type": "stream",
          "text": [
            "\n",
            "\n",
            "  0%|          | 0/100 [00:00<?, ?it/s]\u001b[A\u001b[A\n",
            "\n",
            "  1%|          | 1/100 [00:07<12:20,  7.48s/it]\u001b[A\u001b[A"
          ],
          "name": "stderr"
        },
        {
          "output_type": "stream",
          "text": [
            "Epoch: 0 | Train Loss: 3.5976 | Train Accuracy: 6.38 | Val Loss: 3.6093 | Val Accuracy: 6.68\n"
          ],
          "name": "stdout"
        },
        {
          "output_type": "stream",
          "text": [
            "\n",
            "\n",
            "  2%|▏         | 2/100 [00:14<12:08,  7.44s/it]\u001b[A\u001b[A"
          ],
          "name": "stderr"
        },
        {
          "output_type": "stream",
          "text": [
            "Epoch: 1 | Train Loss: 3.5933 | Train Accuracy: 6.62 | Val Loss: 3.6121 | Val Accuracy: 6.49\n"
          ],
          "name": "stdout"
        },
        {
          "output_type": "stream",
          "text": [
            "\n",
            "\n",
            "  3%|▎         | 3/100 [00:22<11:56,  7.39s/it]\u001b[A\u001b[A"
          ],
          "name": "stderr"
        },
        {
          "output_type": "stream",
          "text": [
            "Epoch: 2 | Train Loss: 3.5780 | Train Accuracy: 7.94 | Val Loss: 3.6086 | Val Accuracy: 6.51\n"
          ],
          "name": "stdout"
        },
        {
          "output_type": "stream",
          "text": [
            "\n",
            "\n",
            "  4%|▍         | 4/100 [00:29<11:48,  7.38s/it]\u001b[A\u001b[A"
          ],
          "name": "stderr"
        },
        {
          "output_type": "stream",
          "text": [
            "Epoch: 3 | Train Loss: 3.5445 | Train Accuracy: 11.45 | Val Loss: 3.6072 | Val Accuracy: 6.44\n"
          ],
          "name": "stdout"
        },
        {
          "output_type": "stream",
          "text": [
            "\n",
            "\n",
            "  5%|▌         | 5/100 [00:36<11:42,  7.40s/it]\u001b[A\u001b[A"
          ],
          "name": "stderr"
        },
        {
          "output_type": "stream",
          "text": [
            "Epoch: 4 | Train Loss: 3.4946 | Train Accuracy: 17.09 | Val Loss: 3.6047 | Val Accuracy: 6.47\n"
          ],
          "name": "stdout"
        },
        {
          "output_type": "stream",
          "text": [
            "\n",
            "\n",
            "  6%|▌         | 6/100 [00:44<11:35,  7.40s/it]\u001b[A\u001b[A"
          ],
          "name": "stderr"
        },
        {
          "output_type": "stream",
          "text": [
            "Epoch: 5 | Train Loss: 3.4398 | Train Accuracy: 22.91 | Val Loss: 3.6047 | Val Accuracy: 6.08\n"
          ],
          "name": "stdout"
        },
        {
          "output_type": "stream",
          "text": [
            "\n",
            "\n",
            "  7%|▋         | 7/100 [00:51<11:33,  7.45s/it]\u001b[A\u001b[A"
          ],
          "name": "stderr"
        },
        {
          "output_type": "stream",
          "text": [
            "Epoch: 6 | Train Loss: 3.3914 | Train Accuracy: 27.63 | Val Loss: 3.6037 | Val Accuracy: 6.21\n"
          ],
          "name": "stdout"
        },
        {
          "output_type": "stream",
          "text": [
            "\n",
            "\n",
            "  8%|▊         | 8/100 [00:59<11:23,  7.43s/it]\u001b[A\u001b[A"
          ],
          "name": "stderr"
        },
        {
          "output_type": "stream",
          "text": [
            "Epoch: 7 | Train Loss: 3.3521 | Train Accuracy: 31.53 | Val Loss: 3.6039 | Val Accuracy: 6.57\n"
          ],
          "name": "stdout"
        },
        {
          "output_type": "stream",
          "text": [
            "\n",
            "\n",
            "  9%|▉         | 9/100 [01:06<11:16,  7.44s/it]\u001b[A\u001b[A"
          ],
          "name": "stderr"
        },
        {
          "output_type": "stream",
          "text": [
            "Epoch: 8 | Train Loss: 3.3145 | Train Accuracy: 35.26 | Val Loss: 3.6044 | Val Accuracy: 6.12\n"
          ],
          "name": "stdout"
        },
        {
          "output_type": "stream",
          "text": [
            "\n",
            "\n",
            " 10%|█         | 10/100 [01:14<11:07,  7.41s/it]\u001b[A\u001b[A"
          ],
          "name": "stderr"
        },
        {
          "output_type": "stream",
          "text": [
            "Epoch: 9 | Train Loss: 3.2773 | Train Accuracy: 39.15 | Val Loss: 3.6047 | Val Accuracy: 6.40\n"
          ],
          "name": "stdout"
        },
        {
          "output_type": "stream",
          "text": [
            "\n",
            "\n",
            " 11%|█         | 11/100 [01:21<11:00,  7.42s/it]\u001b[A\u001b[A"
          ],
          "name": "stderr"
        },
        {
          "output_type": "stream",
          "text": [
            "Epoch: 10 | Train Loss: 3.2355 | Train Accuracy: 43.61 | Val Loss: 3.6057 | Val Accuracy: 6.10\n"
          ],
          "name": "stdout"
        },
        {
          "output_type": "stream",
          "text": [
            "\n",
            "\n",
            " 12%|█▏        | 12/100 [01:28<10:51,  7.40s/it]\u001b[A\u001b[A"
          ],
          "name": "stderr"
        },
        {
          "output_type": "stream",
          "text": [
            "Epoch: 11 | Train Loss: 3.1928 | Train Accuracy: 47.98 | Val Loss: 3.6063 | Val Accuracy: 6.05\n"
          ],
          "name": "stdout"
        },
        {
          "output_type": "stream",
          "text": [
            "\n",
            "\n",
            " 13%|█▎        | 13/100 [01:36<10:44,  7.41s/it]\u001b[A\u001b[A"
          ],
          "name": "stderr"
        },
        {
          "output_type": "stream",
          "text": [
            "Epoch: 12 | Train Loss: 3.1554 | Train Accuracy: 51.51 | Val Loss: 3.6051 | Val Accuracy: 6.06\n"
          ],
          "name": "stdout"
        },
        {
          "output_type": "stream",
          "text": [
            "\n",
            "\n",
            " 14%|█▍        | 14/100 [01:43<10:33,  7.37s/it]\u001b[A\u001b[A"
          ],
          "name": "stderr"
        },
        {
          "output_type": "stream",
          "text": [
            "Epoch: 13 | Train Loss: 3.1249 | Train Accuracy: 54.22 | Val Loss: 3.6083 | Val Accuracy: 5.64\n"
          ],
          "name": "stdout"
        },
        {
          "output_type": "stream",
          "text": [
            "\n",
            "\n",
            " 15%|█▌        | 15/100 [01:50<10:27,  7.38s/it]\u001b[A\u001b[A"
          ],
          "name": "stderr"
        },
        {
          "output_type": "stream",
          "text": [
            "Epoch: 14 | Train Loss: 3.1011 | Train Accuracy: 56.64 | Val Loss: 3.6094 | Val Accuracy: 5.51\n"
          ],
          "name": "stdout"
        },
        {
          "output_type": "stream",
          "text": [
            "\n",
            "\n",
            " 16%|█▌        | 16/100 [01:58<10:20,  7.38s/it]\u001b[A\u001b[A"
          ],
          "name": "stderr"
        },
        {
          "output_type": "stream",
          "text": [
            "Epoch: 15 | Train Loss: 3.0786 | Train Accuracy: 58.69 | Val Loss: 3.6078 | Val Accuracy: 6.03\n"
          ],
          "name": "stdout"
        },
        {
          "output_type": "stream",
          "text": [
            "\n",
            "\n",
            " 17%|█▋        | 17/100 [02:05<10:14,  7.40s/it]\u001b[A\u001b[A"
          ],
          "name": "stderr"
        },
        {
          "output_type": "stream",
          "text": [
            "Epoch: 16 | Train Loss: 3.0615 | Train Accuracy: 60.40 | Val Loss: 3.6089 | Val Accuracy: 5.62\n"
          ],
          "name": "stdout"
        },
        {
          "output_type": "stream",
          "text": [
            "\n",
            "\n",
            " 18%|█▊        | 18/100 [02:13<10:06,  7.40s/it]\u001b[A\u001b[A"
          ],
          "name": "stderr"
        },
        {
          "output_type": "stream",
          "text": [
            "Epoch: 17 | Train Loss: 3.0448 | Train Accuracy: 62.37 | Val Loss: 3.6095 | Val Accuracy: 5.90\n"
          ],
          "name": "stdout"
        },
        {
          "output_type": "stream",
          "text": [
            "\n",
            "\n",
            " 19%|█▉        | 19/100 [02:20<10:01,  7.42s/it]\u001b[A\u001b[A"
          ],
          "name": "stderr"
        },
        {
          "output_type": "stream",
          "text": [
            "Epoch: 18 | Train Loss: 3.0200 | Train Accuracy: 64.82 | Val Loss: 3.6084 | Val Accuracy: 5.88\n"
          ],
          "name": "stdout"
        },
        {
          "output_type": "stream",
          "text": [
            "\n",
            "\n",
            " 20%|██        | 20/100 [02:28<09:53,  7.42s/it]\u001b[A\u001b[A"
          ],
          "name": "stderr"
        },
        {
          "output_type": "stream",
          "text": [
            "Epoch: 19 | Train Loss: 2.9970 | Train Accuracy: 67.03 | Val Loss: 3.6087 | Val Accuracy: 5.93\n"
          ],
          "name": "stdout"
        },
        {
          "output_type": "stream",
          "text": [
            "\n",
            "\n",
            " 21%|██        | 21/100 [02:35<09:45,  7.41s/it]\u001b[A\u001b[A"
          ],
          "name": "stderr"
        },
        {
          "output_type": "stream",
          "text": [
            "Epoch: 20 | Train Loss: 2.9802 | Train Accuracy: 68.56 | Val Loss: 3.6088 | Val Accuracy: 6.08\n"
          ],
          "name": "stdout"
        },
        {
          "output_type": "stream",
          "text": [
            "\n",
            "\n",
            " 22%|██▏       | 22/100 [02:42<09:35,  7.38s/it]\u001b[A\u001b[A"
          ],
          "name": "stderr"
        },
        {
          "output_type": "stream",
          "text": [
            "Epoch: 21 | Train Loss: 2.9662 | Train Accuracy: 69.79 | Val Loss: 3.6101 | Val Accuracy: 5.71\n"
          ],
          "name": "stdout"
        },
        {
          "output_type": "stream",
          "text": [
            "\n",
            "\n",
            " 23%|██▎       | 23/100 [02:50<09:26,  7.36s/it]\u001b[A\u001b[A"
          ],
          "name": "stderr"
        },
        {
          "output_type": "stream",
          "text": [
            "Epoch: 22 | Train Loss: 2.9556 | Train Accuracy: 70.74 | Val Loss: 3.6130 | Val Accuracy: 5.62\n"
          ],
          "name": "stdout"
        },
        {
          "output_type": "stream",
          "text": [
            "\n",
            "\n",
            " 24%|██▍       | 24/100 [02:57<09:18,  7.35s/it]\u001b[A\u001b[A"
          ],
          "name": "stderr"
        },
        {
          "output_type": "stream",
          "text": [
            "Epoch: 23 | Train Loss: 2.9467 | Train Accuracy: 71.58 | Val Loss: 3.6105 | Val Accuracy: 5.75\n"
          ],
          "name": "stdout"
        },
        {
          "output_type": "stream",
          "text": [
            "\n",
            "\n",
            " 25%|██▌       | 25/100 [03:04<09:11,  7.35s/it]\u001b[A\u001b[A"
          ],
          "name": "stderr"
        },
        {
          "output_type": "stream",
          "text": [
            "Epoch: 24 | Train Loss: 2.9400 | Train Accuracy: 72.32 | Val Loss: 3.6112 | Val Accuracy: 5.84\n"
          ],
          "name": "stdout"
        },
        {
          "output_type": "stream",
          "text": [
            "\n",
            "\n",
            " 26%|██▌       | 26/100 [03:12<09:03,  7.35s/it]\u001b[A\u001b[A"
          ],
          "name": "stderr"
        },
        {
          "output_type": "stream",
          "text": [
            "Epoch: 25 | Train Loss: 2.9320 | Train Accuracy: 73.19 | Val Loss: 3.6091 | Val Accuracy: 5.92\n"
          ],
          "name": "stdout"
        },
        {
          "output_type": "stream",
          "text": [
            "\n",
            "\n",
            " 27%|██▋       | 27/100 [03:19<08:57,  7.36s/it]\u001b[A\u001b[A"
          ],
          "name": "stderr"
        },
        {
          "output_type": "stream",
          "text": [
            "Epoch: 26 | Train Loss: 2.9213 | Train Accuracy: 74.43 | Val Loss: 3.6108 | Val Accuracy: 5.80\n"
          ],
          "name": "stdout"
        },
        {
          "output_type": "stream",
          "text": [
            "\n",
            "\n",
            " 28%|██▊       | 28/100 [03:26<08:51,  7.38s/it]\u001b[A\u001b[A"
          ],
          "name": "stderr"
        },
        {
          "output_type": "stream",
          "text": [
            "Epoch: 27 | Train Loss: 2.9074 | Train Accuracy: 75.79 | Val Loss: 3.6110 | Val Accuracy: 5.78\n"
          ],
          "name": "stdout"
        },
        {
          "output_type": "stream",
          "text": [
            "\n",
            "\n",
            " 29%|██▉       | 29/100 [03:34<08:43,  7.37s/it]\u001b[A\u001b[A"
          ],
          "name": "stderr"
        },
        {
          "output_type": "stream",
          "text": [
            "Epoch: 28 | Train Loss: 2.8956 | Train Accuracy: 76.81 | Val Loss: 3.6129 | Val Accuracy: 5.60\n"
          ],
          "name": "stdout"
        },
        {
          "output_type": "stream",
          "text": [
            "\n",
            "\n",
            " 30%|███       | 30/100 [03:41<08:37,  7.39s/it]\u001b[A\u001b[A"
          ],
          "name": "stderr"
        },
        {
          "output_type": "stream",
          "text": [
            "Epoch: 29 | Train Loss: 2.8873 | Train Accuracy: 77.67 | Val Loss: 3.6130 | Val Accuracy: 5.34\n"
          ],
          "name": "stdout"
        },
        {
          "output_type": "stream",
          "text": [
            "\n",
            "\n",
            " 31%|███       | 31/100 [03:49<08:28,  7.37s/it]\u001b[A\u001b[A"
          ],
          "name": "stderr"
        },
        {
          "output_type": "stream",
          "text": [
            "Epoch: 30 | Train Loss: 2.8798 | Train Accuracy: 78.38 | Val Loss: 3.6109 | Val Accuracy: 5.64\n"
          ],
          "name": "stdout"
        },
        {
          "output_type": "stream",
          "text": [
            "\n",
            "\n",
            " 32%|███▏      | 32/100 [03:56<08:18,  7.33s/it]\u001b[A\u001b[A"
          ],
          "name": "stderr"
        },
        {
          "output_type": "stream",
          "text": [
            "Epoch: 31 | Train Loss: 2.8699 | Train Accuracy: 79.38 | Val Loss: 3.6188 | Val Accuracy: 4.89\n"
          ],
          "name": "stdout"
        },
        {
          "output_type": "stream",
          "text": [
            "\n",
            "\n",
            " 33%|███▎      | 33/100 [04:03<08:10,  7.32s/it]\u001b[A\u001b[A"
          ],
          "name": "stderr"
        },
        {
          "output_type": "stream",
          "text": [
            "Epoch: 32 | Train Loss: 2.8616 | Train Accuracy: 80.30 | Val Loss: 3.6171 | Val Accuracy: 4.85\n"
          ],
          "name": "stdout"
        },
        {
          "output_type": "stream",
          "text": [
            "\n",
            "\n",
            " 34%|███▍      | 34/100 [04:10<08:04,  7.33s/it]\u001b[A\u001b[A"
          ],
          "name": "stderr"
        },
        {
          "output_type": "stream",
          "text": [
            "Epoch: 33 | Train Loss: 2.8532 | Train Accuracy: 81.02 | Val Loss: 3.6191 | Val Accuracy: 4.72\n"
          ],
          "name": "stdout"
        },
        {
          "output_type": "stream",
          "text": [
            "\n",
            "\n",
            " 35%|███▌      | 35/100 [04:18<07:55,  7.32s/it]\u001b[A\u001b[A"
          ],
          "name": "stderr"
        },
        {
          "output_type": "stream",
          "text": [
            "Epoch: 34 | Train Loss: 2.8465 | Train Accuracy: 81.79 | Val Loss: 3.6137 | Val Accuracy: 5.65\n"
          ],
          "name": "stdout"
        },
        {
          "output_type": "stream",
          "text": [
            "\n",
            "\n",
            " 36%|███▌      | 36/100 [04:25<07:49,  7.33s/it]\u001b[A\u001b[A"
          ],
          "name": "stderr"
        },
        {
          "output_type": "stream",
          "text": [
            "Epoch: 35 | Train Loss: 2.8374 | Train Accuracy: 82.63 | Val Loss: 3.6183 | Val Accuracy: 5.15\n"
          ],
          "name": "stdout"
        },
        {
          "output_type": "stream",
          "text": [
            "\n",
            "\n",
            " 37%|███▋      | 37/100 [04:32<07:39,  7.30s/it]\u001b[A\u001b[A"
          ],
          "name": "stderr"
        },
        {
          "output_type": "stream",
          "text": [
            "Epoch: 36 | Train Loss: 2.8310 | Train Accuracy: 83.23 | Val Loss: 3.6168 | Val Accuracy: 5.34\n"
          ],
          "name": "stdout"
        },
        {
          "output_type": "stream",
          "text": [
            "\n",
            "\n",
            " 38%|███▊      | 38/100 [04:40<07:32,  7.30s/it]\u001b[A\u001b[A"
          ],
          "name": "stderr"
        },
        {
          "output_type": "stream",
          "text": [
            "Epoch: 37 | Train Loss: 2.8240 | Train Accuracy: 83.84 | Val Loss: 3.6161 | Val Accuracy: 5.47\n"
          ],
          "name": "stdout"
        },
        {
          "output_type": "stream",
          "text": [
            "\n",
            "\n",
            " 39%|███▉      | 39/100 [04:47<07:28,  7.35s/it]\u001b[A\u001b[A"
          ],
          "name": "stderr"
        },
        {
          "output_type": "stream",
          "text": [
            "Epoch: 38 | Train Loss: 2.8201 | Train Accuracy: 84.28 | Val Loss: 3.6173 | Val Accuracy: 5.15\n"
          ],
          "name": "stdout"
        },
        {
          "output_type": "stream",
          "text": [
            "\n",
            "\n",
            " 40%|████      | 40/100 [04:55<07:24,  7.41s/it]\u001b[A\u001b[A"
          ],
          "name": "stderr"
        },
        {
          "output_type": "stream",
          "text": [
            "Epoch: 39 | Train Loss: 2.8163 | Train Accuracy: 84.75 | Val Loss: 3.6154 | Val Accuracy: 5.30\n"
          ],
          "name": "stdout"
        },
        {
          "output_type": "stream",
          "text": [
            "\n",
            "\n",
            " 41%|████      | 41/100 [05:02<07:16,  7.40s/it]\u001b[A\u001b[A"
          ],
          "name": "stderr"
        },
        {
          "output_type": "stream",
          "text": [
            "Epoch: 40 | Train Loss: 2.8128 | Train Accuracy: 85.02 | Val Loss: 3.6153 | Val Accuracy: 5.51\n"
          ],
          "name": "stdout"
        },
        {
          "output_type": "stream",
          "text": [
            "\n",
            "\n",
            " 42%|████▏     | 42/100 [05:09<07:09,  7.41s/it]\u001b[A\u001b[A"
          ],
          "name": "stderr"
        },
        {
          "output_type": "stream",
          "text": [
            "Epoch: 41 | Train Loss: 2.8091 | Train Accuracy: 85.38 | Val Loss: 3.6188 | Val Accuracy: 5.12\n"
          ],
          "name": "stdout"
        },
        {
          "output_type": "stream",
          "text": [
            "\n",
            "\n",
            " 43%|████▎     | 43/100 [05:17<07:02,  7.41s/it]\u001b[A\u001b[A"
          ],
          "name": "stderr"
        },
        {
          "output_type": "stream",
          "text": [
            "Epoch: 42 | Train Loss: 2.8049 | Train Accuracy: 85.73 | Val Loss: 3.6169 | Val Accuracy: 5.28\n"
          ],
          "name": "stdout"
        },
        {
          "output_type": "stream",
          "text": [
            "\n",
            "\n",
            " 44%|████▍     | 44/100 [05:24<06:54,  7.40s/it]\u001b[A\u001b[A"
          ],
          "name": "stderr"
        },
        {
          "output_type": "stream",
          "text": [
            "Epoch: 43 | Train Loss: 2.8021 | Train Accuracy: 86.06 | Val Loss: 3.6167 | Val Accuracy: 5.34\n"
          ],
          "name": "stdout"
        },
        {
          "output_type": "stream",
          "text": [
            "\n",
            "\n",
            " 45%|████▌     | 45/100 [05:32<06:46,  7.38s/it]\u001b[A\u001b[A"
          ],
          "name": "stderr"
        },
        {
          "output_type": "stream",
          "text": [
            "Epoch: 44 | Train Loss: 2.7998 | Train Accuracy: 86.36 | Val Loss: 3.6157 | Val Accuracy: 5.47\n"
          ],
          "name": "stdout"
        },
        {
          "output_type": "stream",
          "text": [
            "\n",
            "\n",
            " 46%|████▌     | 46/100 [05:39<06:37,  7.37s/it]\u001b[A\u001b[A"
          ],
          "name": "stderr"
        },
        {
          "output_type": "stream",
          "text": [
            "Epoch: 45 | Train Loss: 2.7948 | Train Accuracy: 86.73 | Val Loss: 3.6165 | Val Accuracy: 5.34\n"
          ],
          "name": "stdout"
        },
        {
          "output_type": "stream",
          "text": [
            "\n",
            "\n",
            " 47%|████▋     | 47/100 [05:46<06:28,  7.33s/it]\u001b[A\u001b[A"
          ],
          "name": "stderr"
        },
        {
          "output_type": "stream",
          "text": [
            "Epoch: 46 | Train Loss: 2.7922 | Train Accuracy: 87.06 | Val Loss: 3.6200 | Val Accuracy: 4.76\n"
          ],
          "name": "stdout"
        },
        {
          "output_type": "stream",
          "text": [
            "\n",
            "\n",
            " 48%|████▊     | 48/100 [05:54<06:23,  7.37s/it]\u001b[A\u001b[A"
          ],
          "name": "stderr"
        },
        {
          "output_type": "stream",
          "text": [
            "Epoch: 47 | Train Loss: 2.7885 | Train Accuracy: 87.47 | Val Loss: 3.6186 | Val Accuracy: 5.04\n"
          ],
          "name": "stdout"
        },
        {
          "output_type": "stream",
          "text": [
            "\n",
            "\n",
            " 49%|████▉     | 49/100 [06:01<06:17,  7.40s/it]\u001b[A\u001b[A"
          ],
          "name": "stderr"
        },
        {
          "output_type": "stream",
          "text": [
            "Epoch: 48 | Train Loss: 2.7841 | Train Accuracy: 87.86 | Val Loss: 3.6189 | Val Accuracy: 5.21\n"
          ],
          "name": "stdout"
        },
        {
          "output_type": "stream",
          "text": [
            "\n",
            "\n",
            " 50%|█████     | 50/100 [06:08<06:08,  7.36s/it]\u001b[A\u001b[A"
          ],
          "name": "stderr"
        },
        {
          "output_type": "stream",
          "text": [
            "Epoch: 49 | Train Loss: 2.7804 | Train Accuracy: 88.20 | Val Loss: 3.6202 | Val Accuracy: 4.72\n"
          ],
          "name": "stdout"
        },
        {
          "output_type": "stream",
          "text": [
            "\n",
            "\n",
            " 51%|█████     | 51/100 [06:16<05:59,  7.33s/it]\u001b[A\u001b[A"
          ],
          "name": "stderr"
        },
        {
          "output_type": "stream",
          "text": [
            "Epoch: 50 | Train Loss: 2.7769 | Train Accuracy: 88.57 | Val Loss: 3.6194 | Val Accuracy: 5.10\n"
          ],
          "name": "stdout"
        },
        {
          "output_type": "stream",
          "text": [
            "\n",
            "\n",
            " 52%|█████▏    | 52/100 [06:23<05:51,  7.32s/it]\u001b[A\u001b[A"
          ],
          "name": "stderr"
        },
        {
          "output_type": "stream",
          "text": [
            "Epoch: 51 | Train Loss: 2.7737 | Train Accuracy: 88.81 | Val Loss: 3.6172 | Val Accuracy: 5.06\n"
          ],
          "name": "stdout"
        },
        {
          "output_type": "stream",
          "text": [
            "\n",
            "\n",
            " 53%|█████▎    | 53/100 [06:30<05:45,  7.34s/it]\u001b[A\u001b[A"
          ],
          "name": "stderr"
        },
        {
          "output_type": "stream",
          "text": [
            "Epoch: 52 | Train Loss: 2.7732 | Train Accuracy: 88.94 | Val Loss: 3.6162 | Val Accuracy: 5.56\n"
          ],
          "name": "stdout"
        },
        {
          "output_type": "stream",
          "text": [
            "\n",
            "\n",
            " 54%|█████▍    | 54/100 [06:38<05:37,  7.34s/it]\u001b[A\u001b[A"
          ],
          "name": "stderr"
        },
        {
          "output_type": "stream",
          "text": [
            "Epoch: 53 | Train Loss: 2.7713 | Train Accuracy: 89.23 | Val Loss: 3.6201 | Val Accuracy: 5.15\n"
          ],
          "name": "stdout"
        },
        {
          "output_type": "stream",
          "text": [
            "\n",
            "\n",
            " 55%|█████▌    | 55/100 [06:45<05:30,  7.35s/it]\u001b[A\u001b[A"
          ],
          "name": "stderr"
        },
        {
          "output_type": "stream",
          "text": [
            "Epoch: 54 | Train Loss: 2.7664 | Train Accuracy: 89.55 | Val Loss: 3.6197 | Val Accuracy: 5.13\n"
          ],
          "name": "stdout"
        },
        {
          "output_type": "stream",
          "text": [
            "\n",
            "\n",
            " 56%|█████▌    | 56/100 [06:52<05:22,  7.33s/it]\u001b[A\u001b[A"
          ],
          "name": "stderr"
        },
        {
          "output_type": "stream",
          "text": [
            "Epoch: 55 | Train Loss: 2.7645 | Train Accuracy: 89.77 | Val Loss: 3.6170 | Val Accuracy: 5.38\n"
          ],
          "name": "stdout"
        },
        {
          "output_type": "stream",
          "text": [
            "\n",
            "\n",
            " 57%|█████▋    | 57/100 [07:00<05:15,  7.34s/it]\u001b[A\u001b[A"
          ],
          "name": "stderr"
        },
        {
          "output_type": "stream",
          "text": [
            "Epoch: 56 | Train Loss: 2.7647 | Train Accuracy: 89.85 | Val Loss: 3.6171 | Val Accuracy: 5.36\n"
          ],
          "name": "stdout"
        },
        {
          "output_type": "stream",
          "text": [
            "\n",
            "\n",
            " 58%|█████▊    | 58/100 [07:07<05:07,  7.31s/it]\u001b[A\u001b[A"
          ],
          "name": "stderr"
        },
        {
          "output_type": "stream",
          "text": [
            "Epoch: 57 | Train Loss: 2.7622 | Train Accuracy: 90.10 | Val Loss: 3.6186 | Val Accuracy: 5.15\n"
          ],
          "name": "stdout"
        },
        {
          "output_type": "stream",
          "text": [
            "\n",
            "\n",
            " 59%|█████▉    | 59/100 [07:14<05:00,  7.33s/it]\u001b[A\u001b[A"
          ],
          "name": "stderr"
        },
        {
          "output_type": "stream",
          "text": [
            "Epoch: 58 | Train Loss: 2.7586 | Train Accuracy: 90.29 | Val Loss: 3.6172 | Val Accuracy: 5.17\n"
          ],
          "name": "stdout"
        },
        {
          "output_type": "stream",
          "text": [
            "\n",
            "\n",
            " 60%|██████    | 60/100 [07:22<04:53,  7.33s/it]\u001b[A\u001b[A"
          ],
          "name": "stderr"
        },
        {
          "output_type": "stream",
          "text": [
            "Epoch: 59 | Train Loss: 2.7566 | Train Accuracy: 90.47 | Val Loss: 3.6180 | Val Accuracy: 5.04\n"
          ],
          "name": "stdout"
        },
        {
          "output_type": "stream",
          "text": [
            "\n",
            "\n",
            " 61%|██████    | 61/100 [07:29<04:47,  7.38s/it]\u001b[A\u001b[A"
          ],
          "name": "stderr"
        },
        {
          "output_type": "stream",
          "text": [
            "Epoch: 60 | Train Loss: 2.7579 | Train Accuracy: 90.44 | Val Loss: 3.6194 | Val Accuracy: 4.93\n"
          ],
          "name": "stdout"
        },
        {
          "output_type": "stream",
          "text": [
            "\n",
            "\n",
            " 62%|██████▏   | 62/100 [07:36<04:39,  7.36s/it]\u001b[A\u001b[A"
          ],
          "name": "stderr"
        },
        {
          "output_type": "stream",
          "text": [
            "Epoch: 61 | Train Loss: 2.7584 | Train Accuracy: 90.54 | Val Loss: 3.6185 | Val Accuracy: 5.30\n"
          ],
          "name": "stdout"
        },
        {
          "output_type": "stream",
          "text": [
            "\n",
            "\n",
            " 63%|██████▎   | 63/100 [07:44<04:32,  7.36s/it]\u001b[A\u001b[A"
          ],
          "name": "stderr"
        },
        {
          "output_type": "stream",
          "text": [
            "Epoch: 62 | Train Loss: 2.7539 | Train Accuracy: 90.80 | Val Loss: 3.6175 | Val Accuracy: 5.15\n"
          ],
          "name": "stdout"
        },
        {
          "output_type": "stream",
          "text": [
            "\n",
            "\n",
            " 64%|██████▍   | 64/100 [07:51<04:25,  7.37s/it]\u001b[A\u001b[A"
          ],
          "name": "stderr"
        },
        {
          "output_type": "stream",
          "text": [
            "Epoch: 63 | Train Loss: 2.7520 | Train Accuracy: 90.93 | Val Loss: 3.6194 | Val Accuracy: 5.04\n"
          ],
          "name": "stdout"
        },
        {
          "output_type": "stream",
          "text": [
            "\n",
            "\n",
            " 65%|██████▌   | 65/100 [07:59<04:18,  7.38s/it]\u001b[A\u001b[A"
          ],
          "name": "stderr"
        },
        {
          "output_type": "stream",
          "text": [
            "Epoch: 64 | Train Loss: 2.7511 | Train Accuracy: 91.01 | Val Loss: 3.6144 | Val Accuracy: 5.82\n"
          ],
          "name": "stdout"
        },
        {
          "output_type": "stream",
          "text": [
            "\n",
            "\n",
            " 66%|██████▌   | 66/100 [08:06<04:10,  7.36s/it]\u001b[A\u001b[A"
          ],
          "name": "stderr"
        },
        {
          "output_type": "stream",
          "text": [
            "Epoch: 65 | Train Loss: 2.7545 | Train Accuracy: 90.93 | Val Loss: 3.6190 | Val Accuracy: 5.19\n"
          ],
          "name": "stdout"
        },
        {
          "output_type": "stream",
          "text": [
            "\n",
            "\n",
            " 67%|██████▋   | 67/100 [08:13<04:02,  7.34s/it]\u001b[A\u001b[A"
          ],
          "name": "stderr"
        },
        {
          "output_type": "stream",
          "text": [
            "Epoch: 66 | Train Loss: 2.7507 | Train Accuracy: 91.19 | Val Loss: 3.6190 | Val Accuracy: 5.17\n"
          ],
          "name": "stdout"
        },
        {
          "output_type": "stream",
          "text": [
            "\n",
            "\n",
            " 68%|██████▊   | 68/100 [08:20<03:53,  7.31s/it]\u001b[A\u001b[A"
          ],
          "name": "stderr"
        },
        {
          "output_type": "stream",
          "text": [
            "Epoch: 67 | Train Loss: 2.7484 | Train Accuracy: 91.29 | Val Loss: 3.6183 | Val Accuracy: 5.25\n"
          ],
          "name": "stdout"
        },
        {
          "output_type": "stream",
          "text": [
            "\n",
            "\n",
            " 69%|██████▉   | 69/100 [08:28<03:46,  7.30s/it]\u001b[A\u001b[A"
          ],
          "name": "stderr"
        },
        {
          "output_type": "stream",
          "text": [
            "Epoch: 68 | Train Loss: 2.7471 | Train Accuracy: 91.41 | Val Loss: 3.6193 | Val Accuracy: 5.17\n"
          ],
          "name": "stdout"
        },
        {
          "output_type": "stream",
          "text": [
            "\n",
            "\n",
            " 70%|███████   | 70/100 [08:35<03:39,  7.31s/it]\u001b[A\u001b[A"
          ],
          "name": "stderr"
        },
        {
          "output_type": "stream",
          "text": [
            "Epoch: 69 | Train Loss: 2.7504 | Train Accuracy: 91.29 | Val Loss: 3.6166 | Val Accuracy: 5.43\n"
          ],
          "name": "stdout"
        },
        {
          "output_type": "stream",
          "text": [
            "\n",
            "\n",
            " 71%|███████   | 71/100 [08:42<03:32,  7.33s/it]\u001b[A\u001b[A"
          ],
          "name": "stderr"
        },
        {
          "output_type": "stream",
          "text": [
            "Epoch: 70 | Train Loss: 2.7486 | Train Accuracy: 91.44 | Val Loss: 3.6174 | Val Accuracy: 5.45\n"
          ],
          "name": "stdout"
        },
        {
          "output_type": "stream",
          "text": [
            "\n",
            "\n",
            " 72%|███████▏  | 72/100 [08:50<03:27,  7.42s/it]\u001b[A\u001b[A"
          ],
          "name": "stderr"
        },
        {
          "output_type": "stream",
          "text": [
            "Epoch: 71 | Train Loss: 2.7453 | Train Accuracy: 91.58 | Val Loss: 3.6189 | Val Accuracy: 5.15\n"
          ],
          "name": "stdout"
        },
        {
          "output_type": "stream",
          "text": [
            "\n",
            "\n",
            " 73%|███████▎  | 73/100 [08:57<03:18,  7.37s/it]\u001b[A\u001b[A"
          ],
          "name": "stderr"
        },
        {
          "output_type": "stream",
          "text": [
            "Epoch: 72 | Train Loss: 2.7445 | Train Accuracy: 91.67 | Val Loss: 3.6181 | Val Accuracy: 5.25\n"
          ],
          "name": "stdout"
        },
        {
          "output_type": "stream",
          "text": [
            "\n",
            "\n",
            " 74%|███████▍  | 74/100 [09:05<03:11,  7.36s/it]\u001b[A\u001b[A"
          ],
          "name": "stderr"
        },
        {
          "output_type": "stream",
          "text": [
            "Epoch: 73 | Train Loss: 2.7480 | Train Accuracy: 91.55 | Val Loss: 3.6220 | Val Accuracy: 4.89\n"
          ],
          "name": "stdout"
        },
        {
          "output_type": "stream",
          "text": [
            "\n",
            "\n",
            " 75%|███████▌  | 75/100 [09:12<03:03,  7.36s/it]\u001b[A\u001b[A"
          ],
          "name": "stderr"
        },
        {
          "output_type": "stream",
          "text": [
            "Epoch: 74 | Train Loss: 2.7446 | Train Accuracy: 91.78 | Val Loss: 3.6205 | Val Accuracy: 5.04\n"
          ],
          "name": "stdout"
        },
        {
          "output_type": "stream",
          "text": [
            "\n",
            "\n",
            " 76%|███████▌  | 76/100 [09:19<02:56,  7.36s/it]\u001b[A\u001b[A"
          ],
          "name": "stderr"
        },
        {
          "output_type": "stream",
          "text": [
            "Epoch: 75 | Train Loss: 2.7426 | Train Accuracy: 91.86 | Val Loss: 3.6221 | Val Accuracy: 4.87\n"
          ],
          "name": "stdout"
        },
        {
          "output_type": "stream",
          "text": [
            "\n",
            "\n",
            " 77%|███████▋  | 77/100 [09:27<02:48,  7.35s/it]\u001b[A\u001b[A"
          ],
          "name": "stderr"
        },
        {
          "output_type": "stream",
          "text": [
            "Epoch: 76 | Train Loss: 2.7420 | Train Accuracy: 91.90 | Val Loss: 3.6216 | Val Accuracy: 4.82\n"
          ],
          "name": "stdout"
        },
        {
          "output_type": "stream",
          "text": [
            "\n",
            "\n",
            " 78%|███████▊  | 78/100 [09:34<02:41,  7.33s/it]\u001b[A\u001b[A"
          ],
          "name": "stderr"
        },
        {
          "output_type": "stream",
          "text": [
            "Epoch: 77 | Train Loss: 2.7447 | Train Accuracy: 91.86 | Val Loss: 3.6170 | Val Accuracy: 5.43\n"
          ],
          "name": "stdout"
        },
        {
          "output_type": "stream",
          "text": [
            "\n",
            "\n",
            " 79%|███████▉  | 79/100 [09:41<02:33,  7.33s/it]\u001b[A\u001b[A"
          ],
          "name": "stderr"
        },
        {
          "output_type": "stream",
          "text": [
            "Epoch: 78 | Train Loss: 2.7414 | Train Accuracy: 92.04 | Val Loss: 3.6178 | Val Accuracy: 5.38\n"
          ],
          "name": "stdout"
        },
        {
          "output_type": "stream",
          "text": [
            "\n",
            "\n",
            " 80%|████████  | 80/100 [09:49<02:26,  7.30s/it]\u001b[A\u001b[A"
          ],
          "name": "stderr"
        },
        {
          "output_type": "stream",
          "text": [
            "Epoch: 79 | Train Loss: 2.7409 | Train Accuracy: 92.08 | Val Loss: 3.6152 | Val Accuracy: 5.67\n"
          ],
          "name": "stdout"
        },
        {
          "output_type": "stream",
          "text": [
            "\n",
            "\n",
            " 81%|████████  | 81/100 [09:56<02:19,  7.32s/it]\u001b[A\u001b[A"
          ],
          "name": "stderr"
        },
        {
          "output_type": "stream",
          "text": [
            "Epoch: 80 | Train Loss: 2.7401 | Train Accuracy: 92.12 | Val Loss: 3.6201 | Val Accuracy: 5.00\n"
          ],
          "name": "stdout"
        },
        {
          "output_type": "stream",
          "text": [
            "\n",
            "\n",
            " 82%|████████▏ | 82/100 [10:03<02:12,  7.39s/it]\u001b[A\u001b[A"
          ],
          "name": "stderr"
        },
        {
          "output_type": "stream",
          "text": [
            "Epoch: 81 | Train Loss: 2.7406 | Train Accuracy: 92.15 | Val Loss: 3.6175 | Val Accuracy: 5.41\n"
          ],
          "name": "stdout"
        },
        {
          "output_type": "stream",
          "text": [
            "\n",
            "\n",
            " 83%|████████▎ | 83/100 [10:11<02:05,  7.41s/it]\u001b[A\u001b[A"
          ],
          "name": "stderr"
        },
        {
          "output_type": "stream",
          "text": [
            "Epoch: 82 | Train Loss: 2.7419 | Train Accuracy: 92.12 | Val Loss: 3.6152 | Val Accuracy: 5.75\n"
          ],
          "name": "stdout"
        },
        {
          "output_type": "stream",
          "text": [
            "\n",
            "\n",
            " 84%|████████▍ | 84/100 [10:18<01:58,  7.39s/it]\u001b[A\u001b[A"
          ],
          "name": "stderr"
        },
        {
          "output_type": "stream",
          "text": [
            "Epoch: 83 | Train Loss: 2.7394 | Train Accuracy: 92.28 | Val Loss: 3.6153 | Val Accuracy: 5.78\n"
          ],
          "name": "stdout"
        },
        {
          "output_type": "stream",
          "text": [
            "\n",
            "\n",
            " 85%|████████▌ | 85/100 [10:26<01:50,  7.36s/it]\u001b[A\u001b[A"
          ],
          "name": "stderr"
        },
        {
          "output_type": "stream",
          "text": [
            "Epoch: 84 | Train Loss: 2.7379 | Train Accuracy: 92.38 | Val Loss: 3.6182 | Val Accuracy: 5.23\n"
          ],
          "name": "stdout"
        },
        {
          "output_type": "stream",
          "text": [
            "\n",
            "\n",
            " 86%|████████▌ | 86/100 [10:33<01:42,  7.33s/it]\u001b[A\u001b[A"
          ],
          "name": "stderr"
        },
        {
          "output_type": "stream",
          "text": [
            "Epoch: 85 | Train Loss: 2.7368 | Train Accuracy: 92.41 | Val Loss: 3.6197 | Val Accuracy: 5.08\n"
          ],
          "name": "stdout"
        },
        {
          "output_type": "stream",
          "text": [
            "\n",
            "\n",
            " 87%|████████▋ | 87/100 [10:40<01:35,  7.37s/it]\u001b[A\u001b[A"
          ],
          "name": "stderr"
        },
        {
          "output_type": "stream",
          "text": [
            "Epoch: 86 | Train Loss: 2.7372 | Train Accuracy: 92.43 | Val Loss: 3.6161 | Val Accuracy: 5.47\n"
          ],
          "name": "stdout"
        },
        {
          "output_type": "stream",
          "text": [
            "\n",
            "\n",
            " 88%|████████▊ | 88/100 [10:48<01:28,  7.37s/it]\u001b[A\u001b[A"
          ],
          "name": "stderr"
        },
        {
          "output_type": "stream",
          "text": [
            "Epoch: 87 | Train Loss: 2.7404 | Train Accuracy: 92.31 | Val Loss: 3.6184 | Val Accuracy: 5.28\n"
          ],
          "name": "stdout"
        },
        {
          "output_type": "stream",
          "text": [
            "\n",
            "\n",
            " 89%|████████▉ | 89/100 [10:55<01:21,  7.39s/it]\u001b[A\u001b[A"
          ],
          "name": "stderr"
        },
        {
          "output_type": "stream",
          "text": [
            "Epoch: 88 | Train Loss: 2.7373 | Train Accuracy: 92.52 | Val Loss: 3.6163 | Val Accuracy: 5.43\n"
          ],
          "name": "stdout"
        },
        {
          "output_type": "stream",
          "text": [
            "\n",
            "\n",
            " 90%|█████████ | 90/100 [11:02<01:13,  7.40s/it]\u001b[A\u001b[A"
          ],
          "name": "stderr"
        },
        {
          "output_type": "stream",
          "text": [
            "Epoch: 89 | Train Loss: 2.7352 | Train Accuracy: 92.62 | Val Loss: 3.6168 | Val Accuracy: 5.30\n"
          ],
          "name": "stdout"
        },
        {
          "output_type": "stream",
          "text": [
            "\n",
            "\n",
            " 91%|█████████ | 91/100 [11:10<01:06,  7.44s/it]\u001b[A\u001b[A"
          ],
          "name": "stderr"
        },
        {
          "output_type": "stream",
          "text": [
            "Epoch: 90 | Train Loss: 2.7343 | Train Accuracy: 92.67 | Val Loss: 3.6172 | Val Accuracy: 5.36\n"
          ],
          "name": "stdout"
        },
        {
          "output_type": "stream",
          "text": [
            "\n",
            "\n",
            " 92%|█████████▏| 92/100 [11:17<00:59,  7.41s/it]\u001b[A\u001b[A"
          ],
          "name": "stderr"
        },
        {
          "output_type": "stream",
          "text": [
            "Epoch: 91 | Train Loss: 2.7339 | Train Accuracy: 92.72 | Val Loss: 3.6179 | Val Accuracy: 5.19\n"
          ],
          "name": "stdout"
        },
        {
          "output_type": "stream",
          "text": [
            "\n",
            "\n",
            " 93%|█████████▎| 93/100 [11:25<00:51,  7.36s/it]\u001b[A\u001b[A"
          ],
          "name": "stderr"
        },
        {
          "output_type": "stream",
          "text": [
            "Epoch: 92 | Train Loss: 2.7393 | Train Accuracy: 92.42 | Val Loss: 3.6179 | Val Accuracy: 5.41\n"
          ],
          "name": "stdout"
        },
        {
          "output_type": "stream",
          "text": [
            "\n",
            "\n",
            " 94%|█████████▍| 94/100 [11:32<00:44,  7.34s/it]\u001b[A\u001b[A"
          ],
          "name": "stderr"
        },
        {
          "output_type": "stream",
          "text": [
            "Epoch: 93 | Train Loss: 2.7338 | Train Accuracy: 92.80 | Val Loss: 3.6188 | Val Accuracy: 5.26\n"
          ],
          "name": "stdout"
        },
        {
          "output_type": "stream",
          "text": [
            "\n",
            "\n",
            " 95%|█████████▌| 95/100 [11:39<00:36,  7.33s/it]\u001b[A\u001b[A"
          ],
          "name": "stderr"
        },
        {
          "output_type": "stream",
          "text": [
            "Epoch: 94 | Train Loss: 2.7327 | Train Accuracy: 92.84 | Val Loss: 3.6195 | Val Accuracy: 5.04\n"
          ],
          "name": "stdout"
        },
        {
          "output_type": "stream",
          "text": [
            "\n",
            "\n",
            " 96%|█████████▌| 96/100 [11:47<00:29,  7.34s/it]\u001b[A\u001b[A"
          ],
          "name": "stderr"
        },
        {
          "output_type": "stream",
          "text": [
            "Epoch: 95 | Train Loss: 2.7322 | Train Accuracy: 92.90 | Val Loss: 3.6199 | Val Accuracy: 4.99\n"
          ],
          "name": "stdout"
        },
        {
          "output_type": "stream",
          "text": [
            "\n",
            "\n",
            " 97%|█████████▋| 97/100 [11:54<00:21,  7.33s/it]\u001b[A\u001b[A"
          ],
          "name": "stderr"
        },
        {
          "output_type": "stream",
          "text": [
            "Epoch: 96 | Train Loss: 2.7354 | Train Accuracy: 92.78 | Val Loss: 3.6194 | Val Accuracy: 5.17\n"
          ],
          "name": "stdout"
        },
        {
          "output_type": "stream",
          "text": [
            "\n",
            "\n",
            " 98%|█████████▊| 98/100 [12:01<00:14,  7.35s/it]\u001b[A\u001b[A"
          ],
          "name": "stderr"
        },
        {
          "output_type": "stream",
          "text": [
            "Epoch: 97 | Train Loss: 2.7341 | Train Accuracy: 92.85 | Val Loss: 3.6192 | Val Accuracy: 5.04\n"
          ],
          "name": "stdout"
        },
        {
          "output_type": "stream",
          "text": [
            "\n",
            "\n",
            " 99%|█████████▉| 99/100 [12:09<00:07,  7.38s/it]\u001b[A\u001b[A"
          ],
          "name": "stderr"
        },
        {
          "output_type": "stream",
          "text": [
            "Epoch: 98 | Train Loss: 2.7317 | Train Accuracy: 93.01 | Val Loss: 3.6176 | Val Accuracy: 5.28\n"
          ],
          "name": "stdout"
        },
        {
          "output_type": "stream",
          "text": [
            "\n",
            "\n",
            "100%|██████████| 100/100 [12:16<00:00,  7.37s/it]"
          ],
          "name": "stderr"
        },
        {
          "output_type": "stream",
          "text": [
            "Epoch: 99 | Train Loss: 2.7304 | Train Accuracy: 93.06 | Val Loss: 3.6200 | Val Accuracy: 5.21\n"
          ],
          "name": "stdout"
        },
        {
          "output_type": "stream",
          "text": [
            "\n"
          ],
          "name": "stderr"
        }
      ]
    },
    {
      "cell_type": "code",
      "metadata": {
        "colab": {
          "base_uri": "https://localhost:8080/"
        },
        "id": "Kx0JhP_aQUH4",
        "outputId": "efe0ac1c-b309-4f13-ba77-64bd7bb7fe30"
      },
      "source": [
        "test_acc = 0.0\n",
        "for i, (images, labels) in enumerate(testloader, 0):\n",
        "    images = images.to(device)\n",
        "    labels = labels.to(device)\n",
        "    outputs = model(images)\n",
        "    test_acc += get_accuracy(outputs, labels, BATCH_SIZE)\n",
        "        \n",
        "print('Test Accuracy: %.2f'%( test_acc/i))"
      ],
      "execution_count": 77,
      "outputs": [
        {
          "output_type": "stream",
          "text": [
            "Test Accuracy: 4.64\n"
          ],
          "name": "stdout"
        }
      ]
    },
    {
      "cell_type": "code",
      "metadata": {
        "colab": {
          "base_uri": "https://localhost:8080/",
          "height": 621
        },
        "id": "rsrEwxwajpIb",
        "outputId": "7b279055-0832-4f1a-dc40-1c9160e9593b"
      },
      "source": [
        "fig=plt.figure(figsize=(20, 10))\n",
        "plt.plot(np.arange(1, num_epochs+1), train_loss, label=\"Train loss\")\n",
        "plt.plot(np.arange(1, num_epochs+1), val_loss, label=\"Validation loss\")\n",
        "plt.xlabel('Epochs')\n",
        "plt.ylabel('Loss')\n",
        "plt.title(\"Loss Plots\")\n",
        "plt.legend(loc='upper right')\n",
        "plt.show()\n",
        "# plt.savefig('loss.png')"
      ],
      "execution_count": 78,
      "outputs": [
        {
          "output_type": "display_data",
          "data": {
            "image/png": "[encoded data removed]",
            "text/plain": [
              "<Figure size 1440x720 with 1 Axes>"
            ]
          },
          "metadata": {
            "tags": [],
            "needs_background": "light"
          }
        }
      ]
    },
    {
      "cell_type": "code",
      "metadata": {
        "colab": {
          "base_uri": "https://localhost:8080/",
          "height": 621
        },
        "id": "VLMq3qFJlfor",
        "outputId": "cdf5e5c2-5716-40b1-9ba6-15b0cd916a21"
      },
      "source": [
        "fig=plt.figure(figsize=(20, 10))\n",
        "plt.plot(np.arange(1, num_epochs+1), train_acc, label=\"Train Accuracy\")\n",
        "plt.plot(np.arange(1, num_epochs+1), val_acc, label=\"Validation Accuracy\")\n",
        "plt.xlabel('Accuracy (%)')\n",
        "plt.ylabel('Epochs')\n",
        "plt.title(\"Accuracy Plots\")\n",
        "plt.legend(loc='upper right')\n",
        "plt.show()"
      ],
      "execution_count": 80,
      "outputs": [
        {
          "output_type": "display_data",
          "data": {
            "image/png": "[encoded data removed]",
            "text/plain": [
              "<Figure size 1440x720 with 1 Axes>"
            ]
          },
          "metadata": {
            "tags": [],
            "needs_background": "light"
          }
        }
      ]
    },
    {
      "cell_type": "code",
      "metadata": {
        "id": "t12E6-mb0BY1"
      },
      "source": [
        "torch.save(model, './model.zip')"
      ],
      "execution_count": 81,
      "outputs": []
    },
    {
      "cell_type": "code",
      "metadata": {
        "id": "5USWFTFeso1i"
      },
      "source": [
        ""
      ],
      "execution_count": null,
      "outputs": []
    }
  ]
}